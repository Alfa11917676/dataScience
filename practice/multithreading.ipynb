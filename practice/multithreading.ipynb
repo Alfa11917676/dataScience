{
 "cells": [
  {
   "cell_type": "code",
   "execution_count": 3,
   "metadata": {
    "collapsed": true
   },
   "outputs": [
    {
     "name": "stdout",
     "output_type": "stream",
     "text": [
      "16\n",
      "64\n",
      "he\n"
     ]
    }
   ],
   "source": [
    "from threading import  *\n",
    "if __name__ == '__main__':\n",
    "    def squ(n):\n",
    "        print(n**2)\n",
    "    def cube(n):\n",
    "        print(n**3)\n",
    "    t1=Thread(target=squ,args=[4])\n",
    "    t2=Thread(target=cube,args=[4])\n",
    "    t1.start()\n",
    "    t2.start()\n",
    "    print(\"he\")"
   ]
  }
 ],
 "metadata": {
  "kernelspec": {
   "display_name": "Python 3",
   "language": "python",
   "name": "python3"
  },
  "language_info": {
   "codemirror_mode": {
    "name": "ipython",
    "version": 2
   },
   "file_extension": ".py",
   "mimetype": "text/x-python",
   "name": "python",
   "nbconvert_exporter": "python",
   "pygments_lexer": "ipython2",
   "version": "2.7.6"
  }
 },
 "nbformat": 4,
 "nbformat_minor": 0
}