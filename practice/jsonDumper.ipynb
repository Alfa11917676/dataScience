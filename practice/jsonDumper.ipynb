{
 "cells": [
  {
   "cell_type": "code",
   "execution_count": 6,
   "metadata": {
    "collapsed": true
   },
   "outputs": [
    {
     "name": "stdout",
     "output_type": "stream",
     "text": [
      "<class 'str'>\n",
      "{'name': 'Arnab', 'father': 'Pradip', 'mother': 'Sobha'}\n"
     ]
    }
   ],
   "source": [
    "import json\n",
    "dict={\n",
    "    'name':'Arnab',\n",
    "    'father':'Pradip',\n",
    "    'mother':'Sobha',\n",
    "}\n",
    "#print(dict,type(dict))\n",
    "cinvert=json.dumps(dict)\n",
    "print(type(cinvert))\n",
    "with open('data.json','w') as file:\n",
    "    json.dump(dict,file)\n",
    "\n",
    "import time\n",
    "time.sleep(30)\n",
    "with open('data.json','r')as namespace:\n",
    "    d=json.load(namespace)\n",
    "    print(d)"
   ]
  },
  {
   "cell_type": "code",
   "execution_count": 6,
   "outputs": [],
   "source": [],
   "metadata": {
    "collapsed": false,
    "pycharm": {
     "name": "#%%\n"
    }
   }
  }
 ],
 "metadata": {
  "kernelspec": {
   "display_name": "Python 3",
   "language": "python",
   "name": "python3"
  },
  "language_info": {
   "codemirror_mode": {
    "name": "ipython",
    "version": 2
   },
   "file_extension": ".py",
   "mimetype": "text/x-python",
   "name": "python",
   "nbconvert_exporter": "python",
   "pygments_lexer": "ipython2",
   "version": "2.7.6"
  }
 },
 "nbformat": 4,
 "nbformat_minor": 0
}