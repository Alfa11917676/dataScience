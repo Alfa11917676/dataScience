{
 "cells": [
  {
   "cell_type": "code",
   "execution_count": 26,
   "metadata": {
    "collapsed": true
   },
   "outputs": [
    {
     "name": "stdout",
     "output_type": "stream",
     "text": [
      "(5, 3)\n"
     ]
    }
   ],
   "source": [
    "import numpy as ny\n",
    "from random import randint\n",
    "import pandas as py\n",
    "pokemons={\n",
    "    'height': ny.random.randint(1,100,5),\n",
    "    'power':ny.random.randint(1,100,5),\n",
    "    'ability':ny.random.randint(1,100,5)\n",
    "}\n",
    "pokemons\n",
    "dataframes=py.DataFrame(pokemons)\n",
    "dataframes\n",
    "dataframes.to_csv('pokemon_data.csv',index=False)\n",
    "\n",
    "### Read a DataFrame\n",
    "dataframes=py.read_csv('pokemon_data.csv')\n",
    "print(dataframes.shape)"
   ]
  }
 ],
 "metadata": {
  "kernelspec": {
   "display_name": "Python 3",
   "language": "python",
   "name": "python3"
  },
  "language_info": {
   "codemirror_mode": {
    "name": "ipython",
    "version": 2
   },
   "file_extension": ".py",
   "mimetype": "text/x-python",
   "name": "python",
   "nbconvert_exporter": "python",
   "pygments_lexer": "ipython2",
   "version": "2.7.6"
  }
 },
 "nbformat": 4,
 "nbformat_minor": 0
}